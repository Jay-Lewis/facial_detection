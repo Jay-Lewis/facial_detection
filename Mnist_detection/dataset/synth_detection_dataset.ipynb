{
 "cells": [
  {
   "cell_type": "code",
   "execution_count": 1,
   "metadata": {},
   "outputs": [],
   "source": [
    "import tensorflow as tf\n",
    "import numpy as np\n",
    "from matplotlib import pyplot as plt"
   ]
  },
  {
   "cell_type": "markdown",
   "metadata": {},
   "source": [
    "# Load MNIST data"
   ]
  },
  {
   "cell_type": "code",
   "execution_count": 41,
   "metadata": {},
   "outputs": [
    {
     "name": "stdout",
     "output_type": "stream",
     "text": [
      "<class 'numpy.ndarray'>\n"
     ]
    }
   ],
   "source": [
    "# LOAD MNIST DATA\n",
    "mnist = tf.keras.datasets.mnist\n",
    "(x_train, y_train), (x_test, y_test) = mnist.load_data()"
   ]
  },
  {
   "cell_type": "code",
   "execution_count": 42,
   "metadata": {},
   "outputs": [],
   "source": [
    "train_dataset = tf.data.Dataset.from_tensor_slices((x_train, y_train))\n",
    "test_dataset = tf.data.Dataset.from_tensor_slices((x_test, y_test))"
   ]
  },
  {
   "cell_type": "code",
   "execution_count": 45,
   "metadata": {},
   "outputs": [
    {
     "data": {
      "image/png": "[encoded data removed]",
      "text/plain": [
       "<Figure size 432x288 with 1 Axes>"
      ]
     },
     "metadata": {
      "needs_background": "light"
     },
     "output_type": "display_data"
    },
    {
     "name": "stdout",
     "output_type": "stream",
     "text": [
      "tf.Tensor(5, shape=(), dtype=uint8)\n"
     ]
    },
    {
     "data": {
      "image/png": "[encoded data removed]",
      "text/plain": [
       "<Figure size 432x288 with 1 Axes>"
      ]
     },
     "metadata": {
      "needs_background": "light"
     },
     "output_type": "display_data"
    },
    {
     "name": "stdout",
     "output_type": "stream",
     "text": [
      "tf.Tensor(0, shape=(), dtype=uint8)\n"
     ]
    }
   ],
   "source": [
    "batched_dataset = train_dataset.batch(2)\n",
    "\n",
    "for batch in [batch for batch in batched_dataset][0:1]: \n",
    "    x_s, labels = batch\n",
    "    for x, label in zip(x_s, labels):\n",
    "        plt.imshow(x)\n",
    "        plt.show()\n",
    "        print(label)"
   ]
  },
  {
   "cell_type": "code",
   "execution_count": null,
   "metadata": {},
   "outputs": [],
   "source": []
  },
  {
   "cell_type": "markdown",
   "metadata": {},
   "source": [
    "# Random dataset + batching + shuffling"
   ]
  },
  {
   "cell_type": "code",
   "execution_count": 12,
   "metadata": {},
   "outputs": [],
   "source": [
    "# CREATE RANDOM DATASET\n",
    "num_pairs = 10\n",
    "features, labels = (np.random.sample((num_pairs,2)), np.random.sample((num_pairs,1)))\n",
    "dataset = tf.data.Dataset.from_tensor_slices((features,labels))"
   ]
  },
  {
   "cell_type": "code",
   "execution_count": 13,
   "metadata": {},
   "outputs": [
    {
     "name": "stdout",
     "output_type": "stream",
     "text": [
      "[0.3911827]\n"
     ]
    }
   ],
   "source": [
    "print(labels[0])"
   ]
  },
  {
   "cell_type": "code",
   "execution_count": 14,
   "metadata": {},
   "outputs": [
    {
     "data": {
      "image/png": "[encoded data removed]",
      "text/plain": [
       "<Figure size 432x288 with 1 Axes>"
      ]
     },
     "metadata": {
      "needs_background": "light"
     },
     "output_type": "display_data"
    }
   ],
   "source": [
    "# PRINT RANDOM DATASET\n",
    "for pt, label in dataset:    #dataset is iterable\n",
    "    plt.scatter(pt[0], pt[1])\n",
    "plt.show()"
   ]
  },
  {
   "cell_type": "code",
   "execution_count": 24,
   "metadata": {},
   "outputs": [
    {
     "name": "stdout",
     "output_type": "stream",
     "text": [
      "new batch\n",
      "pt: tf.Tensor([0.93261654 0.51375976], shape=(2,), dtype=float64)\n",
      "label: tf.Tensor([0.3911827], shape=(1,), dtype=float64)\n",
      "pt: tf.Tensor([0.61124198 0.37932037], shape=(2,), dtype=float64)\n",
      "label: tf.Tensor([0.84811384], shape=(1,), dtype=float64)\n",
      "pt: tf.Tensor([0.92163117 0.95908287], shape=(2,), dtype=float64)\n",
      "label: tf.Tensor([0.0163716], shape=(1,), dtype=float64)\n",
      "new batch\n",
      "pt: tf.Tensor([0.96064504 0.66471326], shape=(2,), dtype=float64)\n",
      "label: tf.Tensor([0.37397896], shape=(1,), dtype=float64)\n",
      "pt: tf.Tensor([0.66742226 0.70383535], shape=(2,), dtype=float64)\n",
      "label: tf.Tensor([0.57961524], shape=(1,), dtype=float64)\n",
      "pt: tf.Tensor([0.10955625 0.6822207 ], shape=(2,), dtype=float64)\n",
      "label: tf.Tensor([0.76712898], shape=(1,), dtype=float64)\n",
      "new batch\n",
      "pt: tf.Tensor([0.22571596 0.69157302], shape=(2,), dtype=float64)\n",
      "label: tf.Tensor([0.43427402], shape=(1,), dtype=float64)\n",
      "pt: tf.Tensor([0.56494539 0.31857399], shape=(2,), dtype=float64)\n",
      "label: tf.Tensor([0.48667392], shape=(1,), dtype=float64)\n",
      "pt: tf.Tensor([0.27811539 0.85021992], shape=(2,), dtype=float64)\n",
      "label: tf.Tensor([0.61957771], shape=(1,), dtype=float64)\n",
      "new batch\n",
      "pt: tf.Tensor([0.6899438  0.73784061], shape=(2,), dtype=float64)\n",
      "label: tf.Tensor([0.21142593], shape=(1,), dtype=float64)\n"
     ]
    }
   ],
   "source": [
    "# BATCHING \n",
    "batch_size = 3\n",
    "batches = dataset.batch(batch_size)   # batching divides dataset into batches of size 'batch_size'\n",
    "\n",
    "for batch in batches:\n",
    "    print('new batch')\n",
    "    pts, labels = batch\n",
    "    for pt, label in zip(pts, labels):\n",
    "        print(\"pt:\", pt)\n",
    "        print(\"label:\", label)\n",
    "        "
   ]
  },
  {
   "cell_type": "code",
   "execution_count": 40,
   "metadata": {},
   "outputs": [
    {
     "name": "stdout",
     "output_type": "stream",
     "text": [
      "tf.Tensor(1, shape=(), dtype=int32)\n",
      "tf.Tensor(2, shape=(), dtype=int32)\n",
      "tf.Tensor(3, shape=(), dtype=int32)\n",
      "tf.Tensor(4, shape=(), dtype=int32)\n",
      "---------------------\n",
      "tf.Tensor(2, shape=(), dtype=int32)\n",
      "tf.Tensor(1, shape=(), dtype=int32)\n",
      "tf.Tensor(4, shape=(), dtype=int32)\n",
      "tf.Tensor(3, shape=(), dtype=int32)\n"
     ]
    }
   ],
   "source": [
    "# SHUFFLING\n",
    "\n",
    "dataset = tf.data.Dataset.from_tensor_slices([1,2,3,4])\n",
    "buffer_size = 1\n",
    "dataset = dataset.shuffle(buffer_size)\n",
    "# buffer is initialized. random element is pulled from buffer. next value outside buffer imputed.\n",
    "# another random buffer element pulled. process repeats. the larger the buffer, the more random shuffle is.\n",
    "\n",
    "for elem in dataset:\n",
    "    print(elem)\n",
    "\n",
    "print('---------------------')\n",
    "dataset = dataset.shuffle(2)\n",
    "\n",
    "for elem in dataset:\n",
    "    print(elem)"
   ]
  },
  {
   "cell_type": "markdown",
   "metadata": {},
   "source": [
    "# Train model on random dataset"
   ]
  },
  {
   "cell_type": "code",
   "execution_count": null,
   "metadata": {},
   "outputs": [],
   "source": [
    "class LossHistory(tf.keras.callbacks.Callback):\n",
    "    def on_train_begin(self, logs={}):\n",
    "        self.losses = []\n",
    "        self.accuracies = []\n",
    "    def on_train_batch_begin(self, batch, logs={}):\n",
    "        pass\n",
    "    def on_train_batch_end(self, batch, logs={}):\n",
    "        self.losses.append(logs.get('loss'))\n",
    "        self.accuracies.append(logs.get('accuracy'))\n",
    "\n",
    "# Define simple classification network\n",
    "model = tf.keras.models.Sequential([\n",
    "  tf.keras.layers.Flatten(input_shape=(1, 2)),\n",
    "  tf.keras.layers.Dense(128, activation='relu'),\n",
    "  tf.keras.layers.Dropout(0.2),\n",
    "  tf.keras.layers.Dense(10)\n",
    "  tf.keras.layers.Dense(1)\n",
    "])\n",
    "\n",
    "# Define classification loss\n",
    "loss_fn = tf.keras.losses.SparseCategoricalCrossentropy(from_logits=True)\n",
    "\n",
    "\n",
    "# Compile model + optimizer\n",
    "model.compile(optimizer='adam',\n",
    "              loss=loss_fn,\n",
    "              metrics=['accuracy'])\n",
    "\n",
    "# Classification training\n",
    "history = LossHistory()\n",
    "model.fit(x_train, y_train, epochs=5, callbacks=[history])\n",
    "\n",
    "# Evaluate accuracy\n",
    "model.evaluate(x_test,  y_test, verbose=2)\n",
    "\n",
    "# Plot MNIST digits\n",
    "image = x_train[16]\n",
    "plt.imshow(image)\n",
    "plt.show()\n",
    "\n",
    "# Plotting loss and accuracy\n",
    "losses = history.losses\n",
    "plt.title(\"Loss vs Training Steps\")\n",
    "plt.xlabel(\"Training Step\")\n",
    "plt.ylabel('Loss')\n",
    "plt.plot(losses)\n",
    "acc_s = history.accuracies\n",
    "plt.figure()\n",
    "plt.title(\"Accuracy vs Training Steps\")\n",
    "plt.xlabel(\"Training Step\")\n",
    "plt.ylabel('Accuracy')\n",
    "plt.plot(acc_s)\n",
    "plt.show()"
   ]
  },
  {
   "cell_type": "code",
   "execution_count": null,
   "metadata": {},
   "outputs": [],
   "source": [
    "def random_subset_selector(A, n):\n",
    "    "
   ]
  }
 ],
 "metadata": {
  "kernelspec": {
   "display_name": "Python 3",
   "language": "python",
   "name": "python3"
  },
  "language_info": {
   "codemirror_mode": {
    "name": "ipython",
    "version": 3
   },
   "file_extension": ".py",
   "mimetype": "text/x-python",
   "name": "python",
   "nbconvert_exporter": "python",
   "pygments_lexer": "ipython3",
   "version": "3.7.4"
  }
 },
 "nbformat": 4,
 "nbformat_minor": 2
}
